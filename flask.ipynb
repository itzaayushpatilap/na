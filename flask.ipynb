{
 "cells": [
  {
   "cell_type": "raw",
   "id": "1864d21d-c5ce-4562-9371-f782ec7543e9",
   "metadata": {},
   "source": [
    "Q1. What is Flask Framework? What are the advantages of Flask Framework?"
   ]
  },
  {
   "cell_type": "raw",
   "id": "b7528302-7dc4-4ec0-b2de-5d1ce5e46113",
   "metadata": {},
   "source": [
    "ans - Flask is a web framework, it’s a Python module that lets you develop web applications easily. It’s has a small and easy-to-extend core: it’s a microframework that doesn’t include an ORM (Object Relational Manager) or such features. It does have many cool features like url routing, template engine. It is a WSGI web app framework.\n",
    "\n",
    "\n",
    "Advantages of Flask framework:\n",
    "Scalable:\n",
    "Due to its status as a microframework, Flask may use it to quickly grow technological projects like web apps. If you want to make an app that starts out modest but has the potential to grow quickly and in areas you haven’t completely explored, this is a great option.\n",
    "\n",
    "Flexible:\n",
    "This is the most crucial aspect of Flask and one of its key benefits. To paraphrase one of the Zen of Python’s maxims, simplicity can move about and rearrange more easily than complexity.\n",
    "\n",
    "Negotiation is simple:\n",
    "To enable web developers to concentrate entirely on coding without becoming bogged down, navigational simplicity, like Django, is essential. The microframework’s core concepts are straightforward, saving web developers time and effort while giving them more control over the functionality of their code.\n",
    "\n",
    "Lightweight:\n",
    "When we discuss a tool’s or framework’s design, we mean how few parts need to build and put back together, and how it doesn’t rely on a lot of extensions to function. Web developers have some control over using this method."
   ]
  },
  {
   "cell_type": "raw",
   "id": "49aa249f-621c-468f-9d69-82006d6fadcd",
   "metadata": {},
   "source": [
    "Q2. Create a simple Flask application to display ‘Hello World!!’. Attach the screenshot of the output in\n",
    "Jupyter Notebook."
   ]
  },
  {
   "cell_type": "raw",
   "id": "b6e34d0a-fcc6-4ca3-830c-837d3228da72",
   "metadata": {},
   "source": [
    "from flask import Flask\n",
    "\n",
    "app = Flask(__name__)\n",
    "\n",
    "@app.route(\"/\")\n",
    "def hello_world():\n",
    "    return \"<h1>Hello, World!</h1>\"\n",
    "\n",
    "if __name__==\"__main__\":\n",
    "    app.run(host=\"0.0.0.0\")\n"
   ]
  },
  {
   "cell_type": "raw",
   "id": "526e94c8-3ceb-40fd-8b7d-e941f56475be",
   "metadata": {},
   "source": [
    "Q3. What is App routing in Flask? Why do we use app routes?"
   ]
  },
  {
   "cell_type": "raw",
   "id": "adf8bc25-2209-47a6-947a-86676244d958",
   "metadata": {},
   "source": [
    "ans - App routing is used to map the specific URL with the associated function that is intended to perform some task. It is used to access some particular page like Flask Tutorial in the web application.\n",
    "\n",
    "In our first application, the URL ('/') is associated with the home function that returns a particular string displayed on the web page.\n",
    "\n",
    "In other words, we can say that if we visit the particular URL mapped to some particular function, the output of that function is rendered on the browser's screen.\n",
    " \n",
    "My biggest reason for having routing is because if the user hits the Back button of the browser (Forward button as well, for that matter), he will not be navigating within the app."
   ]
  },
  {
   "cell_type": "raw",
   "id": "3ed08af7-4123-4137-8e27-75d9c6e24423",
   "metadata": {},
   "source": [
    "Q4. Create a “/welcome” route to display the welcome message “Welcome to ABC Corporation” and a “/”\n",
    "route to show the following details:\n",
    "Company Name: ABC Corporation\n",
    "Location: India\n",
    "Contact Detail: 999-999-9999\n"
   ]
  },
  {
   "cell_type": "raw",
   "id": "73290f3f-b41a-43c6-9382-3c5319cc2ca8",
   "metadata": {},
   "source": [
    "from flask import Flask\n",
    "\n",
    "app = Flask(__name__)\n",
    "\n",
    "@app.route(\"/welcome\")\n",
    "def hello_world():\n",
    "    return \"<h1>Welcome to ABC Corporation</h1>\"\n",
    "\n",
    "@app.route(\"/a\")\n",
    "def hello_world():\n",
    "    return \"<h1>Company Name: ABC Corporation</h1>\"\n",
    "    return \"<h2>Location: India</h2>\"\n",
    "    return \"<h3>Contact Detail: 999-999-9999</h3>\"\n",
    "\n",
    "\n",
    "if __name__==\"__main__\":\n",
    "    app.run(host=\"0.0.0.0\")\n"
   ]
  },
  {
   "cell_type": "raw",
   "id": "833dab68-a99f-4e0d-82cb-69b5d0a00af8",
   "metadata": {},
   "source": [
    "Q5. What function is used in Flask for URL Building? Write a Python code to demonstrate the working of the\n",
    "url_for() function."
   ]
  },
  {
   "cell_type": "raw",
   "id": "3f7828b3-9484-4426-a590-503c5d177b9d",
   "metadata": {},
   "source": [
    "ans -For building URLs in flask, we use the url_for() function. The name of the function is accepted as its first argument and any number of keyword arguments. The unknown variable parts in a website are then appended to the URL as query parameters.\n",
    "\n",
    "Now a question may have arisen to our mind, that instead of hard-coding the URLs into our templates why are we using the URL reversing function url_for()"
   ]
  },
  {
   "cell_type": "raw",
   "id": "fb7f97e9-d254-4c40-a8eb-9fa3e901571c",
   "metadata": {},
   "source": [
    "http://localhost:5000/user/CodeSpeedy"
   ]
  }
 ],
 "metadata": {
  "kernelspec": {
   "display_name": "Python 3 (ipykernel)",
   "language": "python",
   "name": "python3"
  },
  "language_info": {
   "codemirror_mode": {
    "name": "ipython",
    "version": 3
   },
   "file_extension": ".py",
   "mimetype": "text/x-python",
   "name": "python",
   "nbconvert_exporter": "python",
   "pygments_lexer": "ipython3",
   "version": "3.10.8"
  }
 },
 "nbformat": 4,
 "nbformat_minor": 5
}
